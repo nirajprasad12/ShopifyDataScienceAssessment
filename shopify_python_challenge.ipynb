{
 "cells": [
  {
   "cell_type": "code",
   "execution_count": 1,
   "id": "46c233cc-4ea4-4d90-a05a-8c0f11a72918",
   "metadata": {},
   "outputs": [],
   "source": [
    "# Packages:\n",
    "\n",
    "import pandas as pd\n",
    "import numpy as np\n",
    "import matplotlib.pyplot as plt\n",
    "import seaborn as sns"
   ]
  },
  {
   "cell_type": "code",
   "execution_count": 2,
   "id": "04914ee1-13b6-4d44-9751-771e92a8447c",
   "metadata": {},
   "outputs": [],
   "source": [
    "# Read dataframe as a pandas object:\n",
    "\n",
    "df = pd.read_excel(\"2019 Winter Data Science Intern Challenge Data Set.xlsx\")"
   ]
  },
  {
   "cell_type": "code",
   "execution_count": 3,
   "id": "e73d24b1-65c7-4044-a8b7-94e76e13119e",
   "metadata": {},
   "outputs": [
    {
     "data": {
      "text/plain": [
       "3145.128"
      ]
     },
     "execution_count": 3,
     "metadata": {},
     "output_type": "execute_result"
    }
   ],
   "source": [
    "# Confirm mean value:\n",
    "\n",
    "df['order_amount'].mean()"
   ]
  },
  {
   "cell_type": "markdown",
   "id": "2a13f434-b282-41f5-9f2c-ef41a060d1c7",
   "metadata": {},
   "source": [
    "### The above value confirms that the mean order value is indeed strange and the dataset needs to be explored to find anamolies. "
   ]
  },
  {
   "cell_type": "code",
   "execution_count": 4,
   "id": "749ff858-ee7f-41e4-be0d-2ad8ff1cfe02",
   "metadata": {},
   "outputs": [
    {
     "data": {
      "text/html": [
       "<div>\n",
       "<style scoped>\n",
       "    .dataframe tbody tr th:only-of-type {\n",
       "        vertical-align: middle;\n",
       "    }\n",
       "\n",
       "    .dataframe tbody tr th {\n",
       "        vertical-align: top;\n",
       "    }\n",
       "\n",
       "    .dataframe thead th {\n",
       "        text-align: right;\n",
       "    }\n",
       "</style>\n",
       "<table border=\"1\" class=\"dataframe\">\n",
       "  <thead>\n",
       "    <tr style=\"text-align: right;\">\n",
       "      <th></th>\n",
       "      <th>order_id</th>\n",
       "      <th>shop_id</th>\n",
       "      <th>user_id</th>\n",
       "      <th>order_amount</th>\n",
       "      <th>total_items</th>\n",
       "      <th>payment_method</th>\n",
       "      <th>created_at</th>\n",
       "    </tr>\n",
       "  </thead>\n",
       "  <tbody>\n",
       "    <tr>\n",
       "      <th>2153</th>\n",
       "      <td>2154.0</td>\n",
       "      <td>42.0</td>\n",
       "      <td>607.0</td>\n",
       "      <td>704000.0</td>\n",
       "      <td>2000.0</td>\n",
       "      <td>credit_card</td>\n",
       "      <td>2017-03-12 04:00:00.000</td>\n",
       "    </tr>\n",
       "    <tr>\n",
       "      <th>3332</th>\n",
       "      <td>3333.0</td>\n",
       "      <td>42.0</td>\n",
       "      <td>607.0</td>\n",
       "      <td>704000.0</td>\n",
       "      <td>2000.0</td>\n",
       "      <td>credit_card</td>\n",
       "      <td>2017-03-24 04:00:00.000</td>\n",
       "    </tr>\n",
       "    <tr>\n",
       "      <th>520</th>\n",
       "      <td>521.0</td>\n",
       "      <td>42.0</td>\n",
       "      <td>607.0</td>\n",
       "      <td>704000.0</td>\n",
       "      <td>2000.0</td>\n",
       "      <td>credit_card</td>\n",
       "      <td>2017-03-02 04:00:00.000</td>\n",
       "    </tr>\n",
       "    <tr>\n",
       "      <th>1602</th>\n",
       "      <td>1603.0</td>\n",
       "      <td>42.0</td>\n",
       "      <td>607.0</td>\n",
       "      <td>704000.0</td>\n",
       "      <td>2000.0</td>\n",
       "      <td>credit_card</td>\n",
       "      <td>2017-03-17 04:00:00.000</td>\n",
       "    </tr>\n",
       "    <tr>\n",
       "      <th>60</th>\n",
       "      <td>61.0</td>\n",
       "      <td>42.0</td>\n",
       "      <td>607.0</td>\n",
       "      <td>704000.0</td>\n",
       "      <td>2000.0</td>\n",
       "      <td>credit_card</td>\n",
       "      <td>2017-03-04 04:00:00.000</td>\n",
       "    </tr>\n",
       "    <tr>\n",
       "      <th>...</th>\n",
       "      <td>...</td>\n",
       "      <td>...</td>\n",
       "      <td>...</td>\n",
       "      <td>...</td>\n",
       "      <td>...</td>\n",
       "      <td>...</td>\n",
       "      <td>...</td>\n",
       "    </tr>\n",
       "    <tr>\n",
       "      <th>3871</th>\n",
       "      <td>3872.0</td>\n",
       "      <td>92.0</td>\n",
       "      <td>818.0</td>\n",
       "      <td>90.0</td>\n",
       "      <td>1.0</td>\n",
       "      <td>debit</td>\n",
       "      <td>2017-03-18 09:10:07.550</td>\n",
       "    </tr>\n",
       "    <tr>\n",
       "      <th>2503</th>\n",
       "      <td>2504.0</td>\n",
       "      <td>92.0</td>\n",
       "      <td>935.0</td>\n",
       "      <td>90.0</td>\n",
       "      <td>1.0</td>\n",
       "      <td>credit_card</td>\n",
       "      <td>2017-03-28 02:30:25.553</td>\n",
       "    </tr>\n",
       "    <tr>\n",
       "      <th>4414</th>\n",
       "      <td>4415.0</td>\n",
       "      <td>92.0</td>\n",
       "      <td>927.0</td>\n",
       "      <td>90.0</td>\n",
       "      <td>1.0</td>\n",
       "      <td>credit_card</td>\n",
       "      <td>2017-03-17 09:57:01.115</td>\n",
       "    </tr>\n",
       "    <tr>\n",
       "      <th>3363</th>\n",
       "      <td>3364.0</td>\n",
       "      <td>92.0</td>\n",
       "      <td>730.0</td>\n",
       "      <td>90.0</td>\n",
       "      <td>1.0</td>\n",
       "      <td>credit_card</td>\n",
       "      <td>2017-03-11 23:20:31.493</td>\n",
       "    </tr>\n",
       "    <tr>\n",
       "      <th>2092</th>\n",
       "      <td>2093.0</td>\n",
       "      <td>92.0</td>\n",
       "      <td>986.0</td>\n",
       "      <td>90.0</td>\n",
       "      <td>1.0</td>\n",
       "      <td>debit</td>\n",
       "      <td>2017-03-04 06:44:05.194</td>\n",
       "    </tr>\n",
       "  </tbody>\n",
       "</table>\n",
       "<p>5000 rows × 7 columns</p>\n",
       "</div>"
      ],
      "text/plain": [
       "      order_id  shop_id  user_id  order_amount  total_items payment_method  \\\n",
       "2153    2154.0     42.0    607.0      704000.0       2000.0    credit_card   \n",
       "3332    3333.0     42.0    607.0      704000.0       2000.0    credit_card   \n",
       "520      521.0     42.0    607.0      704000.0       2000.0    credit_card   \n",
       "1602    1603.0     42.0    607.0      704000.0       2000.0    credit_card   \n",
       "60        61.0     42.0    607.0      704000.0       2000.0    credit_card   \n",
       "...        ...      ...      ...           ...          ...            ...   \n",
       "3871    3872.0     92.0    818.0          90.0          1.0          debit   \n",
       "2503    2504.0     92.0    935.0          90.0          1.0    credit_card   \n",
       "4414    4415.0     92.0    927.0          90.0          1.0    credit_card   \n",
       "3363    3364.0     92.0    730.0          90.0          1.0    credit_card   \n",
       "2092    2093.0     92.0    986.0          90.0          1.0          debit   \n",
       "\n",
       "                  created_at  \n",
       "2153 2017-03-12 04:00:00.000  \n",
       "3332 2017-03-24 04:00:00.000  \n",
       "520  2017-03-02 04:00:00.000  \n",
       "1602 2017-03-17 04:00:00.000  \n",
       "60   2017-03-04 04:00:00.000  \n",
       "...                      ...  \n",
       "3871 2017-03-18 09:10:07.550  \n",
       "2503 2017-03-28 02:30:25.553  \n",
       "4414 2017-03-17 09:57:01.115  \n",
       "3363 2017-03-11 23:20:31.493  \n",
       "2092 2017-03-04 06:44:05.194  \n",
       "\n",
       "[5000 rows x 7 columns]"
      ]
     },
     "execution_count": 4,
     "metadata": {},
     "output_type": "execute_result"
    }
   ],
   "source": [
    "# Sort the order values to see max and min:\n",
    "\n",
    "df.sort_values(by=['order_amount'], ascending = False)"
   ]
  },
  {
   "cell_type": "markdown",
   "id": "5f99d557-9962-40dd-a002-48c5d997b25a",
   "metadata": {},
   "source": [
    "## EDA Analysis:\n",
    "\n",
    "**It can be seen that there are some order_amounts that are extremely high - over 700k $. This is indeed strange. We can see that this is occuring only in shop_id 42 and 78. We also observe the total_items for each order.\n",
    "\n",
    "*For shop 42, the total items are almost 2000. It probably is a wholesale store, selling bulk products. Nothing strange there since each product is almost ~350$ which is acceptable.*\n",
    "\n",
    "*However, for shop 78, only 1 item is being sold per item at a very very high rate! ~25k. This makes no sense and there might be some data discrepancy. This cannot be used to fetch reports.*"
   ]
  },
  {
   "cell_type": "code",
   "execution_count": 5,
   "id": "c162be6e-629d-44e2-b1f2-e2f4df31c718",
   "metadata": {},
   "outputs": [
    {
     "data": {
      "image/png": "[encoded data removed]",
      "text/plain": [
       "<Figure size 432x288 with 1 Axes>"
      ]
     },
     "metadata": {
      "needs_background": "light"
     },
     "output_type": "display_data"
    }
   ],
   "source": [
    "# Visualize where the outliers could lie at:\n",
    "\n",
    "plt.scatter(df['order_id'], df['order_amount'])\n",
    "plt.show()"
   ]
  },
  {
   "cell_type": "markdown",
   "id": "cb74cba5-8062-4c04-b048-b0b0bb1d3810",
   "metadata": {},
   "source": [
    "### We can see the Visualization above that shows the outliers!"
   ]
  },
  {
   "cell_type": "markdown",
   "id": "ce7d0dd4-0a21-49a0-ac3a-0dd6f595c641",
   "metadata": {},
   "source": [
    "## Steps to Resolve:\n",
    "\n",
    "**We can safely conclude that the AOV is basically total revenue by each shop divided by total number of products\n",
    "\n",
    "*We can find the above fields by running the below cells:"
   ]
  },
  {
   "cell_type": "code",
   "execution_count": 6,
   "id": "285c59b1-7531-48d8-9782-5ba059c78d91",
   "metadata": {},
   "outputs": [],
   "source": [
    "# Group by shop_id and find the total revenue for each shop_id:\n",
    "\n",
    "find_Revenue = pd.DataFrame(df.groupby('shop_id')['order_amount'].agg('sum'))\n",
    "find_Revenue.rename(columns={'order_amount': 'Revenue_per_shop'}, inplace=True)"
   ]
  },
  {
   "cell_type": "code",
   "execution_count": 7,
   "id": "be8f71c9-b6c3-4608-b9c0-9cf80222e469",
   "metadata": {},
   "outputs": [],
   "source": [
    "# Group by shop_id and find the total items sold for each shop_id:\n",
    "\n",
    "find_TotalItems = pd.DataFrame(df.groupby('shop_id')['total_items'].agg('sum'))\n",
    "find_TotalItems.rename(columns={'total_items': 'Total_Items_per_shop'}, inplace=True)"
   ]
  },
  {
   "cell_type": "code",
   "execution_count": 8,
   "id": "74d32157-2c47-46cd-8fa8-b0859241577f",
   "metadata": {},
   "outputs": [
    {
     "data": {
      "text/html": [
       "<div>\n",
       "<style scoped>\n",
       "    .dataframe tbody tr th:only-of-type {\n",
       "        vertical-align: middle;\n",
       "    }\n",
       "\n",
       "    .dataframe tbody tr th {\n",
       "        vertical-align: top;\n",
       "    }\n",
       "\n",
       "    .dataframe thead th {\n",
       "        text-align: right;\n",
       "    }\n",
       "</style>\n",
       "<table border=\"1\" class=\"dataframe\">\n",
       "  <thead>\n",
       "    <tr style=\"text-align: right;\">\n",
       "      <th></th>\n",
       "      <th>Revenue_per_shop</th>\n",
       "      <th>Total_Items_per_shop</th>\n",
       "      <th>AOV</th>\n",
       "    </tr>\n",
       "    <tr>\n",
       "      <th>shop_id</th>\n",
       "      <th></th>\n",
       "      <th></th>\n",
       "      <th></th>\n",
       "    </tr>\n",
       "  </thead>\n",
       "  <tbody>\n",
       "    <tr>\n",
       "      <th>78.0</th>\n",
       "      <td>2263800.0</td>\n",
       "      <td>88.0</td>\n",
       "      <td>25725.0</td>\n",
       "    </tr>\n",
       "    <tr>\n",
       "      <th>42.0</th>\n",
       "      <td>11990176.0</td>\n",
       "      <td>34063.0</td>\n",
       "      <td>352.0</td>\n",
       "    </tr>\n",
       "    <tr>\n",
       "      <th>12.0</th>\n",
       "      <td>18693.0</td>\n",
       "      <td>93.0</td>\n",
       "      <td>201.0</td>\n",
       "    </tr>\n",
       "    <tr>\n",
       "      <th>89.0</th>\n",
       "      <td>23128.0</td>\n",
       "      <td>118.0</td>\n",
       "      <td>196.0</td>\n",
       "    </tr>\n",
       "    <tr>\n",
       "      <th>99.0</th>\n",
       "      <td>18330.0</td>\n",
       "      <td>94.0</td>\n",
       "      <td>195.0</td>\n",
       "    </tr>\n",
       "    <tr>\n",
       "      <th>...</th>\n",
       "      <td>...</td>\n",
       "      <td>...</td>\n",
       "      <td>...</td>\n",
       "    </tr>\n",
       "    <tr>\n",
       "      <th>53.0</th>\n",
       "      <td>14560.0</td>\n",
       "      <td>130.0</td>\n",
       "      <td>112.0</td>\n",
       "    </tr>\n",
       "    <tr>\n",
       "      <th>100.0</th>\n",
       "      <td>8547.0</td>\n",
       "      <td>77.0</td>\n",
       "      <td>111.0</td>\n",
       "    </tr>\n",
       "    <tr>\n",
       "      <th>32.0</th>\n",
       "      <td>7979.0</td>\n",
       "      <td>79.0</td>\n",
       "      <td>101.0</td>\n",
       "    </tr>\n",
       "    <tr>\n",
       "      <th>2.0</th>\n",
       "      <td>9588.0</td>\n",
       "      <td>102.0</td>\n",
       "      <td>94.0</td>\n",
       "    </tr>\n",
       "    <tr>\n",
       "      <th>92.0</th>\n",
       "      <td>6840.0</td>\n",
       "      <td>76.0</td>\n",
       "      <td>90.0</td>\n",
       "    </tr>\n",
       "  </tbody>\n",
       "</table>\n",
       "<p>100 rows × 3 columns</p>\n",
       "</div>"
      ],
      "text/plain": [
       "         Revenue_per_shop  Total_Items_per_shop      AOV\n",
       "shop_id                                                 \n",
       "78.0            2263800.0                  88.0  25725.0\n",
       "42.0           11990176.0               34063.0    352.0\n",
       "12.0              18693.0                  93.0    201.0\n",
       "89.0              23128.0                 118.0    196.0\n",
       "99.0              18330.0                  94.0    195.0\n",
       "...                   ...                   ...      ...\n",
       "53.0              14560.0                 130.0    112.0\n",
       "100.0              8547.0                  77.0    111.0\n",
       "32.0               7979.0                  79.0    101.0\n",
       "2.0                9588.0                 102.0     94.0\n",
       "92.0               6840.0                  76.0     90.0\n",
       "\n",
       "[100 rows x 3 columns]"
      ]
     },
     "execution_count": 8,
     "metadata": {},
     "output_type": "execute_result"
    }
   ],
   "source": [
    "clean_df = pd.concat([find_Revenue, find_TotalItems], axis=1)\n",
    "clean_df['AOV'] = clean_df['Revenue_per_shop']/clean_df['Total_Items_per_shop']\n",
    "clean_df.sort_values(by = ['AOV'], ascending = False)"
   ]
  },
  {
   "cell_type": "markdown",
   "id": "8001e704-4a3a-4126-8d38-0676857e38bf",
   "metadata": {},
   "source": [
    "**The below cell outputs the average mean of the order_amount by removing the shops 42 and 78. But this is not correct since we have not taken into account the total number of items sold per order.**"
   ]
  },
  {
   "cell_type": "code",
   "execution_count": 9,
   "id": "66ef0d31-82da-431c-a03d-3193631b0013",
   "metadata": {},
   "outputs": [
    {
     "data": {
      "text/plain": [
       "300.1558229655313"
      ]
     },
     "execution_count": 9,
     "metadata": {},
     "output_type": "execute_result"
    }
   ],
   "source": [
    "# Filter out rows for shop id's with large order_amounts:\n",
    "# Find the updated mean using just order_amount\n",
    "\n",
    "values = [42, 78]\n",
    "df = df[df.shop_id.isin(values) == False]\n",
    "df['order_amount'].mean()"
   ]
  },
  {
   "cell_type": "markdown",
   "id": "bbb9ba08-c670-43db-bb02-37a9091051b7",
   "metadata": {},
   "source": [
    "**The below cell outputs the average mean of the AVERAGE ORDER VALUE (AOV) by removing the shop 78 from the list. This takes into account the number of items sold. This value could be the most accurate average that can be used in the analytics tool.**"
   ]
  },
  {
   "cell_type": "code",
   "execution_count": 10,
   "id": "fefe3545-ecb8-467d-be05-486d864d3332",
   "metadata": {},
   "outputs": [
    {
     "data": {
      "text/plain": [
       "152.26262626262627"
      ]
     },
     "execution_count": 10,
     "metadata": {},
     "output_type": "execute_result"
    }
   ],
   "source": [
    "# Find updated mean using the actual AOV values for each shop by removing outlier shop_id 78\n",
    "clean_df = clean_df.drop(78)\n",
    "clean_df['AOV'].mean()"
   ]
  }
 ],
 "metadata": {
  "kernelspec": {
   "display_name": "Python 3 (ipykernel)",
   "language": "python",
   "name": "python3"
  },
  "language_info": {
   "codemirror_mode": {
    "name": "ipython",
    "version": 3
   },
   "file_extension": ".py",
   "mimetype": "text/x-python",
   "name": "python",
   "nbconvert_exporter": "python",
   "pygments_lexer": "ipython3",
   "version": "3.9.7"
  }
 },
 "nbformat": 4,
 "nbformat_minor": 5
}
